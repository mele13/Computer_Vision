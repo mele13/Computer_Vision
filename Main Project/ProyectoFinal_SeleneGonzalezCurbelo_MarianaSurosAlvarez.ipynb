{
 "cells": [
  {
   "cell_type": "code",
   "execution_count": 37,
   "metadata": {},
   "outputs": [],
   "source": [
    "import tkinter as tk\n",
    "import numpy as np\n",
    "import mediapipe\n",
    "import random\n",
    "import cvzone\n",
    "import time\n",
    "import math\n",
    "import cv2\n",
    "import sys\n",
    "from PIL import Image, ImageTk\n",
    "from cvzone.HandTrackingModule import HandDetector\n",
    "\n",
    "%run minigames/rps_minigame.ipynb\n",
    "%run minigames/snake_minigame.ipynb"
   ]
  },
  {
   "cell_type": "markdown",
   "metadata": {},
   "source": [
    "## Interfaz"
   ]
  },
  {
   "cell_type": "code",
   "execution_count": 38,
   "metadata": {},
   "outputs": [],
   "source": [
    "global interface_text\n",
    "\n",
    "def open_snake_interface(game_title):\n",
    "    snake_interface = tk.Toplevel(main_sc)\n",
    "    snake_interface.title(game_title)\n",
    "    snake_interface.geometry(\"400x200\")\n",
    "\n",
    "    # Buttons\n",
    "    play_button = tk.Button(snake_interface, text=\"Play\", command=lambda: play_snake_game(\"./minigames/resources/apple.png\"))\n",
    "    play_button.pack(pady=10)\n",
    "\n",
    "    # How to Play info\n",
    "    htp_rps = \"Play with either hand.\\nPress Q to close, R to restart.\\nThe game won't be visible until a hand is detected.\"\n",
    "    interface_text = tk.Label(snake_interface, text=htp_rps)\n",
    "    interface_text.pack(pady = 10)\n",
    "\n",
    "def open_rps_interface(game_title):\n",
    "    rps_interface = tk.Toplevel(main_sc)\n",
    "    rps_interface.title(game_title)\n",
    "    rps_interface.geometry(\"400x200\")\n",
    "\n",
    "    # Buttons\n",
    "    play_button = tk.Button(rps_interface, text=\"Play\", command=play_rps_game)\n",
    "    play_button.pack(pady=10)\n",
    "\n",
    "    # How to Play info\n",
    "    htp_rps = \"Play with the left hand.\\nPress Q or ESC to exit.\\nPress SPACE to play again.\"\n",
    "    interface_text = tk.Label(rps_interface, text=htp_rps)\n",
    "    interface_text.pack(pady = 10)\n",
    "\n",
    "# Create main window\n",
    "main_sc = tk.Tk()\n",
    "main_sc.title(\"Sele's and Mele's Minigames\")\n",
    "main_sc.geometry(\"400x200\")\n",
    "\n",
    "# Rock, Paper, Scissors Interface\n",
    "main_rps_button = tk.Button(main_sc, text=\"Rock, Paper, Scissors Interface\", command=lambda: open_rps_interface(\"Rock, Paper, Scissors!\"))\n",
    "main_rps_button.pack(pady=10)\n",
    "\n",
    "# Other button Interface\n",
    "main_other_button = tk.Button(main_sc, text=\"Snake Game Interface\", command=lambda: open_snake_interface(\"Snake Game\"))\n",
    "main_other_button.pack(pady=10)\n",
    "\n",
    "# Start event loop\n",
    "main_sc.mainloop()\n"
   ]
  }
 ],
 "metadata": {
  "kernelspec": {
   "display_name": "conda_env_fixed_opencv",
   "language": "python",
   "name": "python3"
  },
  "language_info": {
   "codemirror_mode": {
    "name": "ipython",
    "version": 3
   },
   "file_extension": ".py",
   "mimetype": "text/x-python",
   "name": "python",
   "nbconvert_exporter": "python",
   "pygments_lexer": "ipython3",
   "version": "3.11.5"
  }
 },
 "nbformat": 4,
 "nbformat_minor": 2
}
